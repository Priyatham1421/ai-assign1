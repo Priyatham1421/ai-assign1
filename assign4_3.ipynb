{
  "nbformat": 4,
  "nbformat_minor": 0,
  "metadata": {
    "colab": {
      "provenance": [],
      "authorship_tag": "ABX9TyMUkmTtwawqVjFEUluMf6Rd",
      "include_colab_link": true
    },
    "kernelspec": {
      "name": "python3",
      "display_name": "Python 3"
    },
    "language_info": {
      "name": "python"
    }
  },
  "cells": [
    {
      "cell_type": "markdown",
      "metadata": {
        "id": "view-in-github",
        "colab_type": "text"
      },
      "source": [
        "<a href=\"https://colab.research.google.com/github/Priyatham1421/ai-assign4.3/blob/main/assign4_3.ipynb\" target=\"_parent\"><img src=\"https://colab.research.google.com/assets/colab-badge.svg\" alt=\"Open In Colab\"/></a>"
      ]
    },
    {
      "cell_type": "code",
      "execution_count": null,
      "metadata": {
        "id": "DdjvSPr8rnfa"
      },
      "outputs": [],
      "source": [
        "Task Description#1\n",
        "● Zero-shot: Prompt AI to write a function that checks whether a given year is a leap\n",
        "year.\n",
        "Expected Output#1\n",
        "● AI-generated function with no examples provided"
      ]
    },
    {
      "cell_type": "code",
      "metadata": {
        "colab": {
          "base_uri": "https://localhost:8080/"
        },
        "id": "afb557b6",
        "outputId": "3033a90f-8d83-4e54-810e-a32541209d8d"
      },
      "source": [
        "def is_leap(year):\n",
        "  \"\"\"\n",
        "  Checks if a given year is a leap year.\n",
        "\n",
        "  Args:\n",
        "    year: The year to check (integer).\n",
        "\n",
        "  Returns:\n",
        "    True if the year is a leap year, False otherwise.\n",
        "  \"\"\"\n",
        "  return (year % 4 == 0 and year % 100 != 0) or (year % 400 == 0)\n",
        "\n",
        "# Example usage:\n",
        "print(f\"2000 is a leap year: {is_leap(2000)}\")\n",
        "print(f\"1900 is a leap year: {is_leap(1900)}\")\n",
        "print(f\"2024 is a leap year: {is_leap(2024)}\")"
      ],
      "execution_count": 1,
      "outputs": [
        {
          "output_type": "stream",
          "name": "stdout",
          "text": [
            "2000 is a leap year: True\n",
            "1900 is a leap year: False\n",
            "2024 is a leap year: True\n"
          ]
        }
      ]
    },
    {
      "cell_type": "markdown",
      "source": [
        "EXPLANATION:\n",
        "This code defines a function called is_leap that takes one argument, year. It determines if the given year is a leap year based on the following rules:\n",
        "\n",
        "If the year is divisible by 4 and not divisible by 100, it is a leap year.\n",
        "If the year is divisible by 400, it is also a leap year.\n",
        "The function returns True if the year is a leap year and False otherwise. The lines after the function demonstrate how to use it with example years (2000, 1900, and 2024) and print the results."
      ],
      "metadata": {
        "id": "2w5EjEZjsi_8"
      }
    },
    {
      "cell_type": "code",
      "source": [
        "Task Description#2\n",
        "● One-shot: Give one input-output example to guide AI in writing a function that\n",
        "converts centimeters to inches.\n",
        "Expected Output#2\n",
        "● Function with correct conversion logic"
      ],
      "metadata": {
        "id": "PVjVsJLbsl9S"
      },
      "execution_count": null,
      "outputs": []
    },
    {
      "cell_type": "code",
      "metadata": {
        "colab": {
          "base_uri": "https://localhost:8080/"
        },
        "id": "8c14bf6f",
        "outputId": "d354ffa8-b194-4eda-ff78-6d2807bdff9e"
      },
      "source": [
        "# One-shot example:\n",
        "# Input: 100 cm\n",
        "# Output: 39.37 inches\n",
        "\n",
        "def cm_to_inches(cm):\n",
        "  \"\"\"\n",
        "  Converts centimeters to inches.\n",
        "\n",
        "  Args:\n",
        "    cm: The length in centimeters (float or integer).\n",
        "\n",
        "  Returns:\n",
        "    The length in inches (float).\n",
        "  \"\"\"\n",
        "  return cm * 0.393701\n",
        "\n",
        "# Example usage based on the one-shot:\n",
        "print(f\"100 cm is equal to {cm_to_inches(100):.2f} inches\")\n",
        "\n",
        "# Another example:\n",
        "print(f\"50 cm is equal to {cm_to_inches(50):.2f} inches\")"
      ],
      "execution_count": 2,
      "outputs": [
        {
          "output_type": "stream",
          "name": "stdout",
          "text": [
            "100 cm is equal to 39.37 inches\n",
            "50 cm is equal to 19.69 inches\n"
          ]
        }
      ]
    },
    {
      "cell_type": "markdown",
      "source": [
        "EXPLAINATION: One-shot example:: This is a comment showing the input and expected output that was used to guide the creation of the function. def cm_to_inches(cm):: This line defines the function named cm_to_inches that accepts one argument, cm. \"\"\"Docstring\"\"\": This is a docstring, which explains what the function does, its arguments (Args), and what it returns (Returns). return cm * 0.393701: This is the core of the function. It performs the conversion by multiplying the input cm value by the conversion factor 0.393701 (which is approximately the number of inches in one centimeter) and returns the result. print(f\"100 cm is equal to {cm_to_inches(100):.2f} inches\"): This line calls the function with 100 as input and prints the result formatted to two decimal places using an f-string. print(f\"50 cm is equal to {cm_to_inches(50):.2f} inches\"): This line does the same for an input of 50 cm."
      ],
      "metadata": {
        "id": "lbXPOeEnv3WO"
      }
    },
    {
      "cell_type": "code",
      "source": [
        "Task Description#3\n",
        "● Few-shot: Provide 2–3 examples to generate a function that formats full names as\n",
        "“Last, First”.\n",
        "Expected Output#3\n",
        "● Well-structured function respecting the examples"
      ],
      "metadata": {
        "id": "iCtdTCZ8vTCv"
      },
      "execution_count": null,
      "outputs": []
    },
    {
      "cell_type": "code",
      "metadata": {
        "colab": {
          "base_uri": "https://localhost:8080/"
        },
        "id": "07e1d51d",
        "outputId": "655df3fe-22e8-4ca0-f07f-4045edf4faac"
      },
      "source": [
        "def format_name(full_name):\n",
        "  \"\"\"\n",
        "  Formats a full name as \"Last, First\".\n",
        "\n",
        "  Args:\n",
        "    full_name: The full name (string).\n",
        "\n",
        "  Returns:\n",
        "    The formatted name as \"Last, First\" (string).\n",
        "  \"\"\"\n",
        "  names = full_name.split()\n",
        "  if len(names) > 1:\n",
        "    return f\"{names[-1]}, {' '.join(names[:-1])}\"\n",
        "  else:\n",
        "    return full_name # Handle cases with only one name\n",
        "\n",
        "# Example usage based on the few-shot examples:\n",
        "print(f\"Formatted 'John Doe': {format_name('John Doe')}\")\n",
        "print(f\"Formatted 'Jane Smith': {format_name('Jane Smith')}\")\n",
        "print(f\"Formatted 'Peter Jones': {format_name('Peter Jones')}\")\n",
        "print(f\"Formatted 'SingleName': {format_name('SingleName')}\") # Example with one name"
      ],
      "execution_count": 4,
      "outputs": [
        {
          "output_type": "stream",
          "name": "stdout",
          "text": [
            "Formatted 'John Doe': Doe, John\n",
            "Formatted 'Jane Smith': Smith, Jane\n",
            "Formatted 'Peter Jones': Jones, Peter\n",
            "Formatted 'SingleName': SingleName\n"
          ]
        }
      ]
    },
    {
      "cell_type": "code",
      "source": [
        "Task Description#4\n",
        "● Compare zero-shot and few-shot prompts for writing a function that counts the\n",
        "number of vowels in a string.\n",
        "Expected Output#4\n",
        "● Functional output and comparative reflection"
      ],
      "metadata": {
        "id": "AG9uDNfMuuHl"
      },
      "execution_count": null,
      "outputs": []
    },
    {
      "cell_type": "code",
      "metadata": {
        "colab": {
          "base_uri": "https://localhost:8080/"
        },
        "id": "c6f71221",
        "outputId": "35a07382-b23a-4081-aebb-09800a4a6c50"
      },
      "source": [
        "# Zero-shot prompt:\n",
        "# Write a Python function that counts the number of vowels in a given string.\n",
        "\n",
        "def count_vowels_zero_shot(text):\n",
        "  \"\"\"\n",
        "  Counts the number of vowels in a given string.\n",
        "\n",
        "  Args:\n",
        "    text: The input string.\n",
        "\n",
        "  Returns:\n",
        "    The number of vowels in the string.\n",
        "  \"\"\"\n",
        "  vowels = \"aeiouAEIOU\"\n",
        "  count = 0\n",
        "  for char in text:\n",
        "    if char in vowels:\n",
        "      count += 1\n",
        "  return count\n",
        "\n",
        "# Test the zero-shot function\n",
        "print(f\"Zero-shot result for 'Hello World': {count_vowels_zero_shot('Hello World')}\")\n",
        "print(f\"Zero-shot result for 'Python Programming': {count_vowels_zero_shot('Python Programming')}\")"
      ],
      "execution_count": 6,
      "outputs": [
        {
          "output_type": "stream",
          "name": "stdout",
          "text": [
            "Zero-shot result for 'Hello World': 3\n",
            "Zero-shot result for 'Python Programming': 4\n"
          ]
        }
      ]
    },
    {
      "cell_type": "code",
      "metadata": {
        "colab": {
          "base_uri": "https://localhost:8080/"
        },
        "id": "36d95db0",
        "outputId": "47919825-c6b7-4c8a-9661-ba9262651173"
      },
      "source": [
        "# Few-shot prompt with examples:\n",
        "# Write a Python function that counts the number of vowels in a given string.\n",
        "# Example 1:\n",
        "# Input: \"hello\"\n",
        "# Output: 2\n",
        "# Example 2:\n",
        "# Input: \"programming\"\n",
        "# Output: 4\n",
        "\n",
        "def count_vowels_few_shot(text):\n",
        "  \"\"\"\n",
        "  Counts the number of vowels in a given string using a few-shot approach.\n",
        "\n",
        "  Args:\n",
        "    text: The input string.\n",
        "\n",
        "  Returns:\n",
        "    The number of vowels in the string.\n",
        "  \"\"\"\n",
        "  vowels = \"aeiouAEIOU\"\n",
        "  count = 0\n",
        "  for char in text:\n",
        "    if char in vowels:\n",
        "      count += 1\n",
        "  return count\n",
        "\n",
        "# Test the few-shot function\n",
        "print(f\"Few-shot result for 'hello': {count_vowels_few_shot('hello')}\")\n",
        "print(f\"Few-shot result for 'programming': {count_vowels_few_shot('programming')}\")\n",
        "print(f\"Few-shot result for 'Hello World': {count_vowels_few_shot('Hello World')}\") # Test with mixed case and spaces"
      ],
      "execution_count": 7,
      "outputs": [
        {
          "output_type": "stream",
          "name": "stdout",
          "text": [
            "Few-shot result for 'hello': 2\n",
            "Few-shot result for 'programming': 3\n",
            "Few-shot result for 'Hello World': 3\n"
          ]
        }
      ]
    },
    {
      "cell_type": "code",
      "source": [
        "Task Description#5\n",
        "● Use few-shot prompting to generate a function that reads a .txt file and returns the\n",
        "number of lines.\n",
        "Expected Output#5\n",
        "● Working file-processing function with AI-guided logic\n"
      ],
      "metadata": {
        "id": "wU8Idpbbwmmz"
      },
      "execution_count": null,
      "outputs": []
    },
    {
      "cell_type": "markdown",
      "metadata": {
        "id": "a20ad653"
      },
      "source": [
        "To test the following code, you will need a `.txt` file. You can upload one to your Colab environment or create a new one."
      ]
    },
    {
      "cell_type": "code",
      "metadata": {
        "colab": {
          "base_uri": "https://localhost:8080/"
        },
        "id": "a01e8c9d",
        "outputId": "20956049-9d4a-4fe5-90e1-769289176319"
      },
      "source": [
        "# Few-shot example:\n",
        "# Input: a file named \"example.txt\" with the following content:\n",
        "# Line 1\n",
        "# Line 2\n",
        "# Line 3\n",
        "# Output: 3\n",
        "\n",
        "def count_lines_in_file(filepath):\n",
        "  \"\"\"\n",
        "  Reads a text file and returns the number of lines.\n",
        "\n",
        "  Args:\n",
        "    filepath: The path to the text file.\n",
        "\n",
        "  Returns:\n",
        "    The number of lines in the file (integer).\n",
        "  \"\"\"\n",
        "  try:\n",
        "    with open(filepath, 'r') as file:\n",
        "      line_count = sum(1 for line in file)\n",
        "    return line_count\n",
        "  except FileNotFoundError:\n",
        "    print(f\"Error: File not found at {filepath}\")\n",
        "    return -1 # Or raise an exception, depending on desired behavior\n",
        "\n",
        "# Example usage (replace 'your_file.txt' with the actual path to your file):\n",
        "# Create a dummy file for demonstration\n",
        "with open('my_test_file.txt', 'w') as f:\n",
        "    f.write(\"This is line 1.\\n\")\n",
        "    f.write(\"This is line 2.\\n\")\n",
        "    f.write(\"This is line 3.\\n\")\n",
        "    f.write(\"This is line 4.\")\n",
        "\n",
        "\n",
        "file_path = 'my_test_file.txt' # Change this to your file path\n",
        "print(f\"Number of lines in '{file_path}': {count_lines_in_file(file_path)}\")"
      ],
      "execution_count": 8,
      "outputs": [
        {
          "output_type": "stream",
          "name": "stdout",
          "text": [
            "Number of lines in 'my_test_file.txt': 4\n"
          ]
        }
      ]
    },
    {
      "cell_type": "markdown",
      "source": [
        "EXPLAINATION:\n",
        "Few-shot example:: This is a comment showing the input and expected output that was used as a few-shot example for generating the function.\n",
        "def count_lines_in_file(filepath):: This line defines the function named count_lines_in_file that accepts one argument, filepath.\n",
        "\"\"\"Docstring\"\"\": This is a docstring explaining what the function does, its arguments, and what it returns.\n",
        "try:: This block starts a try...except block to handle potential errors, specifically if the file is not found.\n",
        "with open(filepath, 'r') as file:: This opens the file located at filepath in read mode ('r'). The with statement ensures that the file is automatically closed even if errors occur. The opened file object is assigned to the variable file.\n",
        "line_count = sum(1 for line in file): This is a concise way to count the lines.\n",
        "for line in file: iterates through each line in the file.\n",
        "1 for line in file is a generator expression that yields 1 for each line.\n",
        "sum(...) sums up all the 1s, effectively counting the lines.\n",
        "return line_count: If the file is opened and read successfully, the function returns the calculated line_count.\n",
        "except FileNotFoundError:: This block catches the FileNotFoundError if the file specified by filepath does not exist.\n",
        "print(f\"Error: File not found at {filepath}\"): If a FileNotFoundError occurs, this line prints an error message indicating that the file was not found.\n",
        "return -1: In case of a FileNotFoundError, the function returns -1. You could also choose to raise the exception here depending on how you want to handle the error.\n",
        "The lines after the function demonstrate how to use it:\n",
        "A dummy file named my_test_file.txt is created and written to for demonstration purposes.\n",
        "file_path = 'my_test_file.txt' sets the variable file_path to the name of the dummy file.\n",
        "print(f\"Number of lines in '{file_path}': {count_lines_in_file(file_path)}\") calls the function with the dummy file's path and prints the result."
      ],
      "metadata": {
        "id": "iHXJaRWvxOYI"
      }
    }
  ]
}